{
 "cells": [
  {
   "cell_type": "code",
   "execution_count": 1,
   "metadata": {},
   "outputs": [],
   "source": [
    "# python3 -m notebook\n",
    "\n",
    "import pandas as pd\n",
    "import json\n",
    "\n",
    "# 第一張表\n",
    "df1 = pd.read_excel(open('question_combine.xlsx', 'rb'), sheet_name='汽車法規選擇題')\n",
    "result = df1.to_json(path_or_buf='rule_choice.json', orient='records', force_ascii = False)\n",
    "\n",
    "# result = df.to_json(orient = 'table', force_ascii = False)\n",
    "# print(result)\n",
    "\n",
    "# 第二張表\n",
    "\n",
    "df2 = pd.read_excel(open('question_combine.xlsx', 'rb'), sheet_name='汽車法規是非題')\n",
    "result = df2.to_json(path_or_buf='rule_bool.json', orient='records', force_ascii = False)\n",
    "\n",
    "# 第三張表\n",
    "df3 = pd.read_excel(open('question_combine.xlsx', 'rb'), sheet_name='汽車標誌選擇題')\n",
    "result = df3.to_json(path_or_buf='sign_choice.json', orient='records', force_ascii = False)\n",
    "\n",
    "# 第四張表\n",
    "df4 = pd.read_excel(open('question_combine.xlsx', 'rb'), sheet_name='汽車標誌是非題')\n",
    "result = df4.to_json(path_or_buf='sign_bool.json', orient='records', force_ascii = False)"
   ]
  },
  {
   "cell_type": "code",
   "execution_count": null,
   "metadata": {},
   "outputs": [],
   "source": []
  },
  {
   "cell_type": "code",
   "execution_count": null,
   "metadata": {},
   "outputs": [],
   "source": []
  }
 ],
 "metadata": {
  "kernelspec": {
   "display_name": "Python 3",
   "language": "python",
   "name": "python3"
  },
  "language_info": {
   "codemirror_mode": {
    "name": "ipython",
    "version": 3
   },
   "file_extension": ".py",
   "mimetype": "text/x-python",
   "name": "python",
   "nbconvert_exporter": "python",
   "pygments_lexer": "ipython3",
   "version": "3.7.3"
  }
 },
 "nbformat": 4,
 "nbformat_minor": 4
}
